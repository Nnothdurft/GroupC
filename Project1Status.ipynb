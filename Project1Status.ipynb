{
 "cells": [
  {
   "cell_type": "code",
   "execution_count": 103,
   "metadata": {},
   "outputs": [],
   "source": [
    "import pandas as pd\n",
    "import numpy as np\n",
    "import scipy.stats as stats\n",
    "from scipy.stats import pearsonr\n",
    "%matplotlib inline\n",
    "import matplotlib.pyplot as plt\n",
    "import seaborn as sb\n",
    "\n",
    "\n",
    "# store path\n",
    "crimeData = \"crimeDataWithPhase.csv\""
   ]
  },
  {
   "cell_type": "code",
   "execution_count": 41,
   "metadata": {},
   "outputs": [],
   "source": [
    "# pull in csvfile\n",
    "crimeData_df=pd.read_csv(\"crimeDataWithPhase.csv\")"
   ]
  },
  {
   "cell_type": "code",
   "execution_count": 42,
   "metadata": {},
   "outputs": [
    {
     "data": {
      "text/html": [
       "<div>\n",
       "<style scoped>\n",
       "    .dataframe tbody tr th:only-of-type {\n",
       "        vertical-align: middle;\n",
       "    }\n",
       "\n",
       "    .dataframe tbody tr th {\n",
       "        vertical-align: top;\n",
       "    }\n",
       "\n",
       "    .dataframe thead th {\n",
       "        text-align: right;\n",
       "    }\n",
       "</style>\n",
       "<table border=\"1\" class=\"dataframe\">\n",
       "  <thead>\n",
       "    <tr style=\"text-align: right;\">\n",
       "      <th></th>\n",
       "      <th>DateOccured</th>\n",
       "      <th>Crime</th>\n",
       "      <th>UCRCrime</th>\n",
       "      <th>Phase</th>\n",
       "      <th>DayofWeek</th>\n",
       "    </tr>\n",
       "  </thead>\n",
       "  <tbody>\n",
       "    <tr>\n",
       "      <th>0</th>\n",
       "      <td>2008-01-01</td>\n",
       "      <td>21000.0</td>\n",
       "      <td>Forcible Rape</td>\n",
       "      <td>New Moon</td>\n",
       "      <td>Tuesday</td>\n",
       "    </tr>\n",
       "    <tr>\n",
       "      <th>1</th>\n",
       "      <td>2008-01-01</td>\n",
       "      <td>67601.0</td>\n",
       "      <td>Larceny-theft</td>\n",
       "      <td>New Moon</td>\n",
       "      <td>Tuesday</td>\n",
       "    </tr>\n",
       "    <tr>\n",
       "      <th>2</th>\n",
       "      <td>2008-01-01</td>\n",
       "      <td>44026.0</td>\n",
       "      <td>Aggravated Assault</td>\n",
       "      <td>New Moon</td>\n",
       "      <td>Tuesday</td>\n",
       "    </tr>\n",
       "    <tr>\n",
       "      <th>3</th>\n",
       "      <td>2008-01-01</td>\n",
       "      <td>21000.0</td>\n",
       "      <td>Forcible Rape</td>\n",
       "      <td>New Moon</td>\n",
       "      <td>Tuesday</td>\n",
       "    </tr>\n",
       "    <tr>\n",
       "      <th>4</th>\n",
       "      <td>2008-01-01</td>\n",
       "      <td>21000.0</td>\n",
       "      <td>Forcible Rape</td>\n",
       "      <td>New Moon</td>\n",
       "      <td>Tuesday</td>\n",
       "    </tr>\n",
       "  </tbody>\n",
       "</table>\n",
       "</div>"
      ],
      "text/plain": [
       "  DateOccured    Crime            UCRCrime     Phase DayofWeek\n",
       "0  2008-01-01  21000.0       Forcible Rape  New Moon   Tuesday\n",
       "1  2008-01-01  67601.0       Larceny-theft  New Moon   Tuesday\n",
       "2  2008-01-01  44026.0  Aggravated Assault  New Moon   Tuesday\n",
       "3  2008-01-01  21000.0       Forcible Rape  New Moon   Tuesday\n",
       "4  2008-01-01  21000.0       Forcible Rape  New Moon   Tuesday"
      ]
     },
     "execution_count": 42,
     "metadata": {},
     "output_type": "execute_result"
    }
   ],
   "source": [
    "# Preview data\n",
    "crimeData_df.head()"
   ]
  },
  {
   "cell_type": "code",
   "execution_count": 43,
   "metadata": {},
   "outputs": [
    {
     "data": {
      "text/plain": [
       "DateOccured     object\n",
       "Crime          float64\n",
       "UCRCrime        object\n",
       "Phase           object\n",
       "DayofWeek       object\n",
       "dtype: object"
      ]
     },
     "execution_count": 43,
     "metadata": {},
     "output_type": "execute_result"
    }
   ],
   "source": [
    "# what is data type?\n",
    "crimeData_df.dtypes"
   ]
  },
  {
   "cell_type": "code",
   "execution_count": 44,
   "metadata": {},
   "outputs": [],
   "source": [
    "# Add count column\n",
    "crimeData_df['Count'] = (crimeData_df['Crime']>0).astype(int)"
   ]
  },
  {
   "cell_type": "code",
   "execution_count": 45,
   "metadata": {},
   "outputs": [
    {
     "data": {
      "text/html": [
       "<div>\n",
       "<style scoped>\n",
       "    .dataframe tbody tr th:only-of-type {\n",
       "        vertical-align: middle;\n",
       "    }\n",
       "\n",
       "    .dataframe tbody tr th {\n",
       "        vertical-align: top;\n",
       "    }\n",
       "\n",
       "    .dataframe thead th {\n",
       "        text-align: right;\n",
       "    }\n",
       "</style>\n",
       "<table border=\"1\" class=\"dataframe\">\n",
       "  <thead>\n",
       "    <tr style=\"text-align: right;\">\n",
       "      <th></th>\n",
       "      <th>DateOccured</th>\n",
       "      <th>Crime</th>\n",
       "      <th>UCRCrime</th>\n",
       "      <th>Phase</th>\n",
       "      <th>DayofWeek</th>\n",
       "      <th>Count</th>\n",
       "    </tr>\n",
       "  </thead>\n",
       "  <tbody>\n",
       "    <tr>\n",
       "      <th>0</th>\n",
       "      <td>2008-01-01</td>\n",
       "      <td>21000.0</td>\n",
       "      <td>Forcible Rape</td>\n",
       "      <td>New Moon</td>\n",
       "      <td>Tuesday</td>\n",
       "      <td>1</td>\n",
       "    </tr>\n",
       "    <tr>\n",
       "      <th>1</th>\n",
       "      <td>2008-01-01</td>\n",
       "      <td>67601.0</td>\n",
       "      <td>Larceny-theft</td>\n",
       "      <td>New Moon</td>\n",
       "      <td>Tuesday</td>\n",
       "      <td>1</td>\n",
       "    </tr>\n",
       "    <tr>\n",
       "      <th>2</th>\n",
       "      <td>2008-01-01</td>\n",
       "      <td>44026.0</td>\n",
       "      <td>Aggravated Assault</td>\n",
       "      <td>New Moon</td>\n",
       "      <td>Tuesday</td>\n",
       "      <td>1</td>\n",
       "    </tr>\n",
       "    <tr>\n",
       "      <th>3</th>\n",
       "      <td>2008-01-01</td>\n",
       "      <td>21000.0</td>\n",
       "      <td>Forcible Rape</td>\n",
       "      <td>New Moon</td>\n",
       "      <td>Tuesday</td>\n",
       "      <td>1</td>\n",
       "    </tr>\n",
       "    <tr>\n",
       "      <th>4</th>\n",
       "      <td>2008-01-01</td>\n",
       "      <td>21000.0</td>\n",
       "      <td>Forcible Rape</td>\n",
       "      <td>New Moon</td>\n",
       "      <td>Tuesday</td>\n",
       "      <td>1</td>\n",
       "    </tr>\n",
       "  </tbody>\n",
       "</table>\n",
       "</div>"
      ],
      "text/plain": [
       "  DateOccured    Crime            UCRCrime     Phase DayofWeek  Count\n",
       "0  2008-01-01  21000.0       Forcible Rape  New Moon   Tuesday      1\n",
       "1  2008-01-01  67601.0       Larceny-theft  New Moon   Tuesday      1\n",
       "2  2008-01-01  44026.0  Aggravated Assault  New Moon   Tuesday      1\n",
       "3  2008-01-01  21000.0       Forcible Rape  New Moon   Tuesday      1\n",
       "4  2008-01-01  21000.0       Forcible Rape  New Moon   Tuesday      1"
      ]
     },
     "execution_count": 45,
     "metadata": {},
     "output_type": "execute_result"
    }
   ],
   "source": [
    "crimeData_df.head()"
   ]
  },
  {
   "cell_type": "code",
   "execution_count": 46,
   "metadata": {},
   "outputs": [
    {
     "data": {
      "text/plain": [
       "DateOccured    datetime64[ns]\n",
       "Crime                 float64\n",
       "UCRCrime               object\n",
       "Phase                  object\n",
       "DayofWeek              object\n",
       "Count                   int32\n",
       "dtype: object"
      ]
     },
     "execution_count": 46,
     "metadata": {},
     "output_type": "execute_result"
    }
   ],
   "source": [
    "# Change DateOccured format to date\n",
    "crimeData_df[\"DateOccured\"] = pd.to_datetime(crimeData_df.DateOccured)\n",
    "crimeData_df.dtypes"
   ]
  },
  {
   "cell_type": "code",
   "execution_count": 47,
   "metadata": {},
   "outputs": [],
   "source": [
    "# Converting DateOccured to First of the month so I can roll up data \n",
    "crimeData_df.DateOccured = pd.to_datetime(crimeData_df.DateOccured.values.astype('datetime64[M]'))"
   ]
  },
  {
   "cell_type": "code",
   "execution_count": 53,
   "metadata": {},
   "outputs": [
    {
     "name": "stdout",
     "output_type": "stream",
     "text": [
      "                                                  Crime  Count\n",
      "UCRCrime           Phase         DateOccured                  \n",
      "Aggravated Assault First Quarter 2008-01-01   3230448.0     77\n",
      "                                 2008-02-01   2382994.0     57\n",
      "                                 2008-03-01   3447073.0     83\n",
      "                                 2008-04-01   2481178.0     59\n",
      "                                 2008-05-01   3096544.0     74\n",
      "                                 2008-06-01   3943259.0     94\n",
      "                                 2008-07-01   4690927.0    112\n",
      "                                 2008-08-01   3696962.0     88\n",
      "                                 2008-09-01   3755251.0     90\n",
      "                                 2008-10-01   4060492.0     97\n",
      "                                 2008-11-01   6988498.0    167\n",
      "                                 2008-12-01   4235653.0    101\n",
      "                                 2009-01-01   3157489.0     75\n",
      "                                 2009-02-01   2843103.0     68\n",
      "                                 2009-03-01   3610583.0     86\n",
      "                                 2009-04-01   4809688.0    115\n",
      "                                 2009-05-01   4008331.0     96\n",
      "                                 2009-06-01   3362125.0     80\n",
      "                                 2009-07-01   3014999.0     72\n",
      "                                 2009-08-01   2617910.0     62\n",
      "                                 2009-09-01   4824095.0    115\n",
      "                                 2009-10-01   3689302.0     88\n",
      "                                 2009-11-01   4684048.0    112\n",
      "                                 2009-12-01   2504236.0     60\n",
      "                                 2010-01-01   2962538.0     71\n",
      "                                 2010-02-01   2115089.0     50\n",
      "                                 2010-03-01   3974282.0     95\n",
      "                                 2010-04-01   3351255.0     80\n",
      "                                 2010-05-01   2707938.0     64\n",
      "                                 2010-06-01   3355102.0     80\n",
      "...                                                 ...    ...\n",
      "Robbery            New Moon      2015-10-01   1639897.0     52\n",
      "                                 2015-11-01   1564666.0     49\n",
      "                                 2015-12-01   1446531.0     45\n",
      "                                 2016-01-01   1393385.0     43\n",
      "                                 2016-02-01   1112571.0     35\n",
      "                                 2016-03-01   1144439.0     36\n",
      "                                 2016-04-01    829630.0     26\n",
      "                                 2016-05-01   1070386.0     34\n",
      "                                 2016-06-01   1344063.0     42\n",
      "                                 2016-07-01   1724193.0     54\n",
      "                                 2016-08-01   1429890.0     45\n",
      "                                 2016-09-01   1822616.0     58\n",
      "                                 2016-10-01   2027346.0     64\n",
      "                                 2016-11-01   1111601.0     35\n",
      "                                 2016-12-01   1302554.0     41\n",
      "                                 2017-01-01   1423327.0     45\n",
      "                                 2017-02-01   1027735.0     32\n",
      "                                 2017-03-01   1216822.0     38\n",
      "                                 2017-04-01   1033505.0     32\n",
      "                                 2017-05-01   1092820.0     34\n",
      "                                 2017-06-01   1212611.0     38\n",
      "                                 2017-07-01   1435422.0     45\n",
      "                                 2017-08-01    978944.0     31\n",
      "                                 2017-09-01   1344453.0     42\n",
      "                                 2017-10-01   1995390.0     62\n",
      "                                 2017-11-01   1733867.0     54\n",
      "                                 2017-12-01   1471473.0     45\n",
      "                                 2018-01-01   1335712.0     39\n",
      "                                 2018-02-01   1025671.0     30\n",
      "                                 2018-03-01    942291.0     28\n",
      "\n",
      "[3889 rows x 2 columns]\n"
     ]
    }
   ],
   "source": [
    "groupedCrimes = crimeData_df.groupby([\"UCRCrime\", \"Phase\", \"DateOccured\"]).sum()\n",
    "print(groupedCrimes)"
   ]
  },
  {
   "cell_type": "code",
   "execution_count": 56,
   "metadata": {},
   "outputs": [
    {
     "data": {
      "text/html": [
       "<div>\n",
       "<style scoped>\n",
       "    .dataframe tbody tr th:only-of-type {\n",
       "        vertical-align: middle;\n",
       "    }\n",
       "\n",
       "    .dataframe tbody tr th {\n",
       "        vertical-align: top;\n",
       "    }\n",
       "\n",
       "    .dataframe thead th {\n",
       "        text-align: right;\n",
       "    }\n",
       "</style>\n",
       "<table border=\"1\" class=\"dataframe\">\n",
       "  <thead>\n",
       "    <tr style=\"text-align: right;\">\n",
       "      <th></th>\n",
       "      <th></th>\n",
       "      <th></th>\n",
       "      <th>Crime</th>\n",
       "      <th>Count</th>\n",
       "    </tr>\n",
       "    <tr>\n",
       "      <th>UCRCrime</th>\n",
       "      <th>Phase</th>\n",
       "      <th>DateOccured</th>\n",
       "      <th></th>\n",
       "      <th></th>\n",
       "    </tr>\n",
       "  </thead>\n",
       "  <tbody>\n",
       "    <tr>\n",
       "      <th rowspan=\"5\" valign=\"top\">Aggravated Assault</th>\n",
       "      <th rowspan=\"5\" valign=\"top\">First Quarter</th>\n",
       "      <th>2008-01-01</th>\n",
       "      <td>3230448.0</td>\n",
       "      <td>77</td>\n",
       "    </tr>\n",
       "    <tr>\n",
       "      <th>2008-02-01</th>\n",
       "      <td>2382994.0</td>\n",
       "      <td>57</td>\n",
       "    </tr>\n",
       "    <tr>\n",
       "      <th>2008-03-01</th>\n",
       "      <td>3447073.0</td>\n",
       "      <td>83</td>\n",
       "    </tr>\n",
       "    <tr>\n",
       "      <th>2008-04-01</th>\n",
       "      <td>2481178.0</td>\n",
       "      <td>59</td>\n",
       "    </tr>\n",
       "    <tr>\n",
       "      <th>2008-05-01</th>\n",
       "      <td>3096544.0</td>\n",
       "      <td>74</td>\n",
       "    </tr>\n",
       "  </tbody>\n",
       "</table>\n",
       "</div>"
      ],
      "text/plain": [
       "                                                  Crime  Count\n",
       "UCRCrime           Phase         DateOccured                  \n",
       "Aggravated Assault First Quarter 2008-01-01   3230448.0     77\n",
       "                                 2008-02-01   2382994.0     57\n",
       "                                 2008-03-01   3447073.0     83\n",
       "                                 2008-04-01   2481178.0     59\n",
       "                                 2008-05-01   3096544.0     74"
      ]
     },
     "execution_count": 56,
     "metadata": {},
     "output_type": "execute_result"
    }
   ],
   "source": [
    "groupedCrimes.head()"
   ]
  },
  {
   "cell_type": "code",
   "execution_count": 58,
   "metadata": {},
   "outputs": [],
   "source": [
    "# Data is now in usable format - exporting to csv then bringing back \n",
    "groupedCrimes.to_csv(\"groupeddata.cvs\")"
   ]
  },
  {
   "cell_type": "code",
   "execution_count": 59,
   "metadata": {},
   "outputs": [],
   "source": [
    "#pull in 2nd csvfile\n",
    "GroupedcrimeData_df=pd.read_csv(\"groupeddata.cvs\")"
   ]
  },
  {
   "cell_type": "code",
   "execution_count": 26,
   "metadata": {},
   "outputs": [
    {
     "data": {
      "text/html": [
       "<div>\n",
       "<style scoped>\n",
       "    .dataframe tbody tr th:only-of-type {\n",
       "        vertical-align: middle;\n",
       "    }\n",
       "\n",
       "    .dataframe tbody tr th {\n",
       "        vertical-align: top;\n",
       "    }\n",
       "\n",
       "    .dataframe thead th {\n",
       "        text-align: right;\n",
       "    }\n",
       "</style>\n",
       "<table border=\"1\" class=\"dataframe\">\n",
       "  <thead>\n",
       "    <tr style=\"text-align: right;\">\n",
       "      <th></th>\n",
       "      <th>UCRCrime</th>\n",
       "      <th>Phase</th>\n",
       "      <th>month</th>\n",
       "      <th>Crime</th>\n",
       "      <th>Count</th>\n",
       "    </tr>\n",
       "  </thead>\n",
       "  <tbody>\n",
       "    <tr>\n",
       "      <th>0</th>\n",
       "      <td>Aggravated Assault</td>\n",
       "      <td>First Quarter</td>\n",
       "      <td>2008-02-01</td>\n",
       "      <td>3230448.0</td>\n",
       "      <td>77</td>\n",
       "    </tr>\n",
       "    <tr>\n",
       "      <th>1</th>\n",
       "      <td>Aggravated Assault</td>\n",
       "      <td>First Quarter</td>\n",
       "      <td>2008-03-01</td>\n",
       "      <td>2382994.0</td>\n",
       "      <td>57</td>\n",
       "    </tr>\n",
       "    <tr>\n",
       "      <th>2</th>\n",
       "      <td>Aggravated Assault</td>\n",
       "      <td>First Quarter</td>\n",
       "      <td>2008-04-01</td>\n",
       "      <td>3447073.0</td>\n",
       "      <td>83</td>\n",
       "    </tr>\n",
       "    <tr>\n",
       "      <th>3</th>\n",
       "      <td>Aggravated Assault</td>\n",
       "      <td>First Quarter</td>\n",
       "      <td>2008-05-01</td>\n",
       "      <td>2481178.0</td>\n",
       "      <td>59</td>\n",
       "    </tr>\n",
       "    <tr>\n",
       "      <th>4</th>\n",
       "      <td>Aggravated Assault</td>\n",
       "      <td>First Quarter</td>\n",
       "      <td>2008-06-01</td>\n",
       "      <td>3096544.0</td>\n",
       "      <td>74</td>\n",
       "    </tr>\n",
       "  </tbody>\n",
       "</table>\n",
       "</div>"
      ],
      "text/plain": [
       "             UCRCrime          Phase       month      Crime  Count\n",
       "0  Aggravated Assault  First Quarter  2008-02-01  3230448.0     77\n",
       "1  Aggravated Assault  First Quarter  2008-03-01  2382994.0     57\n",
       "2  Aggravated Assault  First Quarter  2008-04-01  3447073.0     83\n",
       "3  Aggravated Assault  First Quarter  2008-05-01  2481178.0     59\n",
       "4  Aggravated Assault  First Quarter  2008-06-01  3096544.0     74"
      ]
     },
     "execution_count": 26,
     "metadata": {},
     "output_type": "execute_result"
    }
   ],
   "source": [
    "GroupedcrimeData_df.head()"
   ]
  },
  {
   "cell_type": "code",
   "execution_count": 64,
   "metadata": {
    "scrolled": true
   },
   "outputs": [
    {
     "data": {
      "text/html": [
       "<div>\n",
       "<style scoped>\n",
       "    .dataframe tbody tr th:only-of-type {\n",
       "        vertical-align: middle;\n",
       "    }\n",
       "\n",
       "    .dataframe tbody tr th {\n",
       "        vertical-align: top;\n",
       "    }\n",
       "\n",
       "    .dataframe thead tr th {\n",
       "        text-align: left;\n",
       "    }\n",
       "\n",
       "    .dataframe thead tr:last-of-type th {\n",
       "        text-align: right;\n",
       "    }\n",
       "</style>\n",
       "<table border=\"1\" class=\"dataframe\">\n",
       "  <thead>\n",
       "    <tr>\n",
       "      <th></th>\n",
       "      <th colspan=\"4\" halign=\"left\">sum</th>\n",
       "      <th colspan=\"4\" halign=\"left\">mean</th>\n",
       "      <th colspan=\"4\" halign=\"left\">std</th>\n",
       "    </tr>\n",
       "    <tr>\n",
       "      <th></th>\n",
       "      <th colspan=\"4\" halign=\"left\">Count</th>\n",
       "      <th colspan=\"4\" halign=\"left\">Count</th>\n",
       "      <th colspan=\"4\" halign=\"left\">Count</th>\n",
       "    </tr>\n",
       "    <tr>\n",
       "      <th>Phase</th>\n",
       "      <th>First Quarter</th>\n",
       "      <th>Full Moon</th>\n",
       "      <th>Last Quarter</th>\n",
       "      <th>New Moon</th>\n",
       "      <th>First Quarter</th>\n",
       "      <th>Full Moon</th>\n",
       "      <th>Last Quarter</th>\n",
       "      <th>New Moon</th>\n",
       "      <th>First Quarter</th>\n",
       "      <th>Full Moon</th>\n",
       "      <th>Last Quarter</th>\n",
       "      <th>New Moon</th>\n",
       "    </tr>\n",
       "    <tr>\n",
       "      <th>UCRCrime</th>\n",
       "      <th></th>\n",
       "      <th></th>\n",
       "      <th></th>\n",
       "      <th></th>\n",
       "      <th></th>\n",
       "      <th></th>\n",
       "      <th></th>\n",
       "      <th></th>\n",
       "      <th></th>\n",
       "      <th></th>\n",
       "      <th></th>\n",
       "      <th></th>\n",
       "    </tr>\n",
       "  </thead>\n",
       "  <tbody>\n",
       "    <tr>\n",
       "      <th>Aggravated Assault</th>\n",
       "      <td>9760</td>\n",
       "      <td>9647</td>\n",
       "      <td>9217</td>\n",
       "      <td>9862</td>\n",
       "      <td>79.349593</td>\n",
       "      <td>78.430894</td>\n",
       "      <td>74.934959</td>\n",
       "      <td>80.178862</td>\n",
       "      <td>25.744961</td>\n",
       "      <td>23.999003</td>\n",
       "      <td>19.402864</td>\n",
       "      <td>21.621571</td>\n",
       "    </tr>\n",
       "    <tr>\n",
       "      <th>Arson</th>\n",
       "      <td>725</td>\n",
       "      <td>754</td>\n",
       "      <td>648</td>\n",
       "      <td>690</td>\n",
       "      <td>5.894309</td>\n",
       "      <td>6.389831</td>\n",
       "      <td>5.400000</td>\n",
       "      <td>5.750000</td>\n",
       "      <td>3.482540</td>\n",
       "      <td>3.769046</td>\n",
       "      <td>2.769583</td>\n",
       "      <td>2.948436</td>\n",
       "    </tr>\n",
       "    <tr>\n",
       "      <th>Burglary</th>\n",
       "      <td>13337</td>\n",
       "      <td>13488</td>\n",
       "      <td>13349</td>\n",
       "      <td>13261</td>\n",
       "      <td>108.430894</td>\n",
       "      <td>109.658537</td>\n",
       "      <td>108.528455</td>\n",
       "      <td>107.813008</td>\n",
       "      <td>41.289081</td>\n",
       "      <td>42.803560</td>\n",
       "      <td>39.859451</td>\n",
       "      <td>39.092440</td>\n",
       "    </tr>\n",
       "    <tr>\n",
       "      <th>Criminal Homicide</th>\n",
       "      <td>442</td>\n",
       "      <td>482</td>\n",
       "      <td>392</td>\n",
       "      <td>442</td>\n",
       "      <td>3.810345</td>\n",
       "      <td>4.016667</td>\n",
       "      <td>3.379310</td>\n",
       "      <td>3.946429</td>\n",
       "      <td>2.295227</td>\n",
       "      <td>2.473331</td>\n",
       "      <td>2.011511</td>\n",
       "      <td>2.091765</td>\n",
       "    </tr>\n",
       "    <tr>\n",
       "      <th>Forcible Rape</th>\n",
       "      <td>621</td>\n",
       "      <td>592</td>\n",
       "      <td>665</td>\n",
       "      <td>661</td>\n",
       "      <td>5.132231</td>\n",
       "      <td>4.892562</td>\n",
       "      <td>5.495868</td>\n",
       "      <td>5.462810</td>\n",
       "      <td>2.949413</td>\n",
       "      <td>2.679557</td>\n",
       "      <td>3.191457</td>\n",
       "      <td>2.935533</td>\n",
       "    </tr>\n",
       "    <tr>\n",
       "      <th>Larceny-theft</th>\n",
       "      <td>37115</td>\n",
       "      <td>37175</td>\n",
       "      <td>37099</td>\n",
       "      <td>37127</td>\n",
       "      <td>301.747967</td>\n",
       "      <td>302.235772</td>\n",
       "      <td>301.617886</td>\n",
       "      <td>301.845528</td>\n",
       "      <td>75.618932</td>\n",
       "      <td>81.520095</td>\n",
       "      <td>75.456482</td>\n",
       "      <td>70.525432</td>\n",
       "    </tr>\n",
       "    <tr>\n",
       "      <th>Motor Vehicle Theft</th>\n",
       "      <td>11349</td>\n",
       "      <td>11486</td>\n",
       "      <td>11310</td>\n",
       "      <td>11204</td>\n",
       "      <td>92.268293</td>\n",
       "      <td>93.382114</td>\n",
       "      <td>91.951220</td>\n",
       "      <td>91.089431</td>\n",
       "      <td>40.544465</td>\n",
       "      <td>44.256799</td>\n",
       "      <td>38.084215</td>\n",
       "      <td>39.966176</td>\n",
       "    </tr>\n",
       "    <tr>\n",
       "      <th>Robbery</th>\n",
       "      <td>5235</td>\n",
       "      <td>5206</td>\n",
       "      <td>5282</td>\n",
       "      <td>5369</td>\n",
       "      <td>42.560976</td>\n",
       "      <td>42.325203</td>\n",
       "      <td>42.943089</td>\n",
       "      <td>43.650407</td>\n",
       "      <td>15.462883</td>\n",
       "      <td>14.754547</td>\n",
       "      <td>14.741655</td>\n",
       "      <td>12.378580</td>\n",
       "    </tr>\n",
       "  </tbody>\n",
       "</table>\n",
       "</div>"
      ],
      "text/plain": [
       "                              sum                                  \\\n",
       "                            Count                                   \n",
       "Phase               First Quarter Full Moon Last Quarter New Moon   \n",
       "UCRCrime                                                            \n",
       "Aggravated Assault           9760      9647         9217     9862   \n",
       "Arson                         725       754          648      690   \n",
       "Burglary                    13337     13488        13349    13261   \n",
       "Criminal Homicide             442       482          392      442   \n",
       "Forcible Rape                 621       592          665      661   \n",
       "Larceny-theft               37115     37175        37099    37127   \n",
       "Motor Vehicle Theft         11349     11486        11310    11204   \n",
       "Robbery                      5235      5206         5282     5369   \n",
       "\n",
       "                             mean                                       \\\n",
       "                            Count                                        \n",
       "Phase               First Quarter   Full Moon Last Quarter    New Moon   \n",
       "UCRCrime                                                                 \n",
       "Aggravated Assault      79.349593   78.430894    74.934959   80.178862   \n",
       "Arson                    5.894309    6.389831     5.400000    5.750000   \n",
       "Burglary               108.430894  109.658537   108.528455  107.813008   \n",
       "Criminal Homicide        3.810345    4.016667     3.379310    3.946429   \n",
       "Forcible Rape            5.132231    4.892562     5.495868    5.462810   \n",
       "Larceny-theft          301.747967  302.235772   301.617886  301.845528   \n",
       "Motor Vehicle Theft     92.268293   93.382114    91.951220   91.089431   \n",
       "Robbery                 42.560976   42.325203    42.943089   43.650407   \n",
       "\n",
       "                              std                                     \n",
       "                            Count                                     \n",
       "Phase               First Quarter  Full Moon Last Quarter   New Moon  \n",
       "UCRCrime                                                              \n",
       "Aggravated Assault      25.744961  23.999003    19.402864  21.621571  \n",
       "Arson                    3.482540   3.769046     2.769583   2.948436  \n",
       "Burglary                41.289081  42.803560    39.859451  39.092440  \n",
       "Criminal Homicide        2.295227   2.473331     2.011511   2.091765  \n",
       "Forcible Rape            2.949413   2.679557     3.191457   2.935533  \n",
       "Larceny-theft           75.618932  81.520095    75.456482  70.525432  \n",
       "Motor Vehicle Theft     40.544465  44.256799    38.084215  39.966176  \n",
       "Robbery                 15.462883  14.754547    14.741655  12.378580  "
      ]
     },
     "execution_count": 64,
     "metadata": {},
     "output_type": "execute_result"
    }
   ],
   "source": [
    "pd.pivot_table(GroupedcrimeData_df,index=[\"UCRCrime\"], columns = [\"Phase\"], values = ['Count'],\n",
    "                      aggfunc=[np.sum,np.mean, np.std])\n"
   ]
  },
  {
   "cell_type": "code",
   "execution_count": 67,
   "metadata": {},
   "outputs": [
    {
     "data": {
      "image/png": "[encoded data removed]",
      "text/plain": [
       "<Figure size 432x288 with 9 Axes>"
      ]
     },
     "metadata": {},
     "output_type": "display_data"
    }
   ],
   "source": [
    "# Need to see if data is normally distributed.  Histogram of monthly counts by each type of crime.  \n",
    "# Visually Aggravated assault has the most normally distributed data folled by Larceny theft then Robbery\n",
    "\n",
    "GroupedcrimeData_df.hist(by='UCRCrime',column = 'Count')\n",
    "plt.savefig(\"UCR Crime Count by Month\")\n",
    "plt.show()"
   ]
  },
  {
   "cell_type": "code",
   "execution_count": 80,
   "metadata": {},
   "outputs": [
    {
     "name": "stdout",
     "output_type": "stream",
     "text": [
      "                                       Count                                \n",
      "Phase                          First Quarter Full Moon Last Quarter New Moon\n",
      "UCRCrime           DateOccured                                              \n",
      "Aggravated Assault 2008-01-01           77.0      82.0         65.0     78.0\n",
      "                   2008-02-01           57.0      36.0         82.0     72.0\n",
      "                   2008-03-01           83.0      96.0         85.0     89.0\n",
      "                   2008-04-01           59.0     125.0        108.0    113.0\n",
      "                   2008-05-01           74.0     123.0        107.0     94.0\n",
      "                   2008-06-01           94.0      90.0        103.0     97.0\n",
      "                   2008-07-01          112.0     121.0         95.0    104.0\n",
      "                   2008-08-01           88.0     105.0        117.0     83.0\n",
      "                   2008-09-01           90.0      96.0        106.0     38.0\n",
      "                   2008-10-01           97.0     118.0         78.0     83.0\n",
      "                   2008-11-01          167.0      52.0         63.0     81.0\n",
      "                   2008-12-01          101.0      68.0         54.0     58.0\n",
      "                   2009-01-01           75.0      92.0         72.0     66.0\n",
      "                   2009-02-01           68.0      75.0         74.0     92.0\n",
      "                   2009-03-01           86.0     121.0        105.0    131.0\n",
      "                   2009-04-01          115.0      89.0         90.0    125.0\n",
      "                   2009-05-01           96.0     104.0         89.0    120.0\n",
      "                   2009-06-01           80.0     110.0        107.0     98.0\n",
      "                   2009-07-01           72.0     112.0         97.0     83.0\n",
      "                   2009-08-01           62.0     122.0         90.0     78.0\n",
      "                   2009-09-01          115.0      95.0        104.0     91.0\n",
      "                   2009-10-01           88.0     103.0         66.0     76.0\n",
      "                   2009-11-01          112.0      87.0         71.0     83.0\n",
      "                   2009-12-01           60.0      62.0         54.0     48.0\n",
      "                   2010-01-01           71.0      47.0         66.0     45.0\n",
      "                   2010-02-01           50.0      51.0         31.0     58.0\n",
      "                   2010-03-01           95.0      85.0         69.0     97.0\n",
      "                   2010-04-01           80.0      85.0         84.0    133.0\n",
      "                   2010-05-01           64.0      84.0        117.0    115.0\n",
      "                   2010-06-01           80.0      85.0         91.0    114.0\n",
      "...                                      ...       ...          ...      ...\n",
      "Robbery            2015-10-01           29.0      46.0         38.0     52.0\n",
      "                   2015-11-01           40.0      34.0         43.0     49.0\n",
      "                   2015-12-01           33.0      46.0         49.0     45.0\n",
      "                   2016-01-01           23.0      31.0         34.0     43.0\n",
      "                   2016-02-01           16.0      33.0         33.0     35.0\n",
      "                   2016-03-01           18.0      25.0         43.0     36.0\n",
      "                   2016-04-01           40.0      42.0         44.0     26.0\n",
      "                   2016-05-01           30.0      37.0         45.0     34.0\n",
      "                   2016-06-01           23.0      45.0         53.0     42.0\n",
      "                   2016-07-01           53.0      53.0         48.0     54.0\n",
      "                   2016-08-01           37.0      60.0         39.0     45.0\n",
      "                   2016-09-01           41.0      39.0         54.0     58.0\n",
      "                   2016-10-01           83.0      41.0         30.0     64.0\n",
      "                   2016-11-01           63.0      55.0         36.0     35.0\n",
      "                   2016-12-01           55.0      40.0         29.0     41.0\n",
      "                   2017-01-01           30.0      41.0         38.0     45.0\n",
      "                   2017-02-01           17.0      35.0         35.0     32.0\n",
      "                   2017-03-01           29.0      15.0         35.0     38.0\n",
      "                   2017-04-01           32.0      23.0         38.0     32.0\n",
      "                   2017-05-01           42.0      31.0         48.0     34.0\n",
      "                   2017-06-01           38.0      34.0         44.0     38.0\n",
      "                   2017-07-01           43.0      55.0         36.0     45.0\n",
      "                   2017-08-01           39.0      48.0         61.0     31.0\n",
      "                   2017-09-01           48.0      52.0         45.0     42.0\n",
      "                   2017-10-01           66.0      71.0         64.0     62.0\n",
      "                   2017-11-01           54.0      52.0         38.0     54.0\n",
      "                   2017-12-01           51.0      55.0         44.0     45.0\n",
      "                   2018-01-01           30.0      29.0         14.0     39.0\n",
      "                   2018-02-01           27.0      23.0         16.0     30.0\n",
      "                   2018-03-01           21.0      22.0         19.0     28.0\n",
      "\n",
      "[984 rows x 4 columns]\n"
     ]
    }
   ],
   "source": [
    "FinalData = pd.pivot_table(GroupedcrimeData_df,index=[\"UCRCrime\",\"DateOccured\"], columns = [\"Phase\"], values = ['Count'])\n",
    "print(FinalData)"
   ]
  },
  {
   "cell_type": "code",
   "execution_count": 93,
   "metadata": {},
   "outputs": [],
   "source": [
    "# Data is now in usable format to run stats - exporting to csv then bringing back \n",
    "FinalData.to_csv(\"FinalData.cvs\", header=False)"
   ]
  },
  {
   "cell_type": "code",
   "execution_count": 94,
   "metadata": {},
   "outputs": [],
   "source": [
    "#pull in 2nd csvfile\n",
    "FinalData=pd.read_csv(\"FinalData.cvs\")"
   ]
  },
  {
   "cell_type": "code",
   "execution_count": 95,
   "metadata": {},
   "outputs": [
    {
     "data": {
      "text/html": [
       "<div>\n",
       "<style scoped>\n",
       "    .dataframe tbody tr th:only-of-type {\n",
       "        vertical-align: middle;\n",
       "    }\n",
       "\n",
       "    .dataframe tbody tr th {\n",
       "        vertical-align: top;\n",
       "    }\n",
       "\n",
       "    .dataframe thead th {\n",
       "        text-align: right;\n",
       "    }\n",
       "</style>\n",
       "<table border=\"1\" class=\"dataframe\">\n",
       "  <thead>\n",
       "    <tr style=\"text-align: right;\">\n",
       "      <th></th>\n",
       "      <th>0</th>\n",
       "      <th>Phase</th>\n",
       "      <th>Unnamed: 2</th>\n",
       "      <th>First Quarter</th>\n",
       "      <th>Full Moon</th>\n",
       "      <th>Last Quarter</th>\n",
       "      <th>New Moon</th>\n",
       "    </tr>\n",
       "  </thead>\n",
       "  <tbody>\n",
       "    <tr>\n",
       "      <th>0</th>\n",
       "      <td>1</td>\n",
       "      <td>UCRCrime</td>\n",
       "      <td>DateOccured</td>\n",
       "      <td>NaN</td>\n",
       "      <td>NaN</td>\n",
       "      <td>NaN</td>\n",
       "      <td>NaN</td>\n",
       "    </tr>\n",
       "    <tr>\n",
       "      <th>1</th>\n",
       "      <td>2</td>\n",
       "      <td>Aggravated Assault</td>\n",
       "      <td>2008-01-01</td>\n",
       "      <td>77.0</td>\n",
       "      <td>82.0</td>\n",
       "      <td>65.0</td>\n",
       "      <td>78.0</td>\n",
       "    </tr>\n",
       "    <tr>\n",
       "      <th>2</th>\n",
       "      <td>3</td>\n",
       "      <td>Aggravated Assault</td>\n",
       "      <td>2008-02-01</td>\n",
       "      <td>57.0</td>\n",
       "      <td>36.0</td>\n",
       "      <td>82.0</td>\n",
       "      <td>72.0</td>\n",
       "    </tr>\n",
       "    <tr>\n",
       "      <th>3</th>\n",
       "      <td>4</td>\n",
       "      <td>Aggravated Assault</td>\n",
       "      <td>2008-03-01</td>\n",
       "      <td>83.0</td>\n",
       "      <td>96.0</td>\n",
       "      <td>85.0</td>\n",
       "      <td>89.0</td>\n",
       "    </tr>\n",
       "    <tr>\n",
       "      <th>4</th>\n",
       "      <td>5</td>\n",
       "      <td>Aggravated Assault</td>\n",
       "      <td>2008-04-01</td>\n",
       "      <td>59.0</td>\n",
       "      <td>125.0</td>\n",
       "      <td>108.0</td>\n",
       "      <td>113.0</td>\n",
       "    </tr>\n",
       "  </tbody>\n",
       "</table>\n",
       "</div>"
      ],
      "text/plain": [
       "   0               Phase   Unnamed: 2  First Quarter  Full Moon  Last Quarter  \\\n",
       "0  1            UCRCrime  DateOccured            NaN        NaN           NaN   \n",
       "1  2  Aggravated Assault   2008-01-01           77.0       82.0          65.0   \n",
       "2  3  Aggravated Assault   2008-02-01           57.0       36.0          82.0   \n",
       "3  4  Aggravated Assault   2008-03-01           83.0       96.0          85.0   \n",
       "4  5  Aggravated Assault   2008-04-01           59.0      125.0         108.0   \n",
       "\n",
       "   New Moon  \n",
       "0       NaN  \n",
       "1      78.0  \n",
       "2      72.0  \n",
       "3      89.0  \n",
       "4     113.0  "
      ]
     },
     "execution_count": 95,
     "metadata": {},
     "output_type": "execute_result"
    }
   ],
   "source": [
    "FinalData.head()"
   ]
  },
  {
   "cell_type": "code",
   "execution_count": 96,
   "metadata": {},
   "outputs": [
    {
     "data": {
      "text/html": [
       "<div>\n",
       "<style scoped>\n",
       "    .dataframe tbody tr th:only-of-type {\n",
       "        vertical-align: middle;\n",
       "    }\n",
       "\n",
       "    .dataframe tbody tr th {\n",
       "        vertical-align: top;\n",
       "    }\n",
       "\n",
       "    .dataframe thead th {\n",
       "        text-align: right;\n",
       "    }\n",
       "</style>\n",
       "<table border=\"1\" class=\"dataframe\">\n",
       "  <thead>\n",
       "    <tr style=\"text-align: right;\">\n",
       "      <th></th>\n",
       "      <th>0</th>\n",
       "      <th>Phase</th>\n",
       "      <th>Unnamed: 2</th>\n",
       "      <th>First Quarter</th>\n",
       "      <th>Full Moon</th>\n",
       "      <th>Last Quarter</th>\n",
       "      <th>New Moon</th>\n",
       "    </tr>\n",
       "  </thead>\n",
       "  <tbody>\n",
       "    <tr>\n",
       "      <th>1</th>\n",
       "      <td>2</td>\n",
       "      <td>Aggravated Assault</td>\n",
       "      <td>2008-01-01</td>\n",
       "      <td>77.0</td>\n",
       "      <td>82.0</td>\n",
       "      <td>65.0</td>\n",
       "      <td>78.0</td>\n",
       "    </tr>\n",
       "    <tr>\n",
       "      <th>2</th>\n",
       "      <td>3</td>\n",
       "      <td>Aggravated Assault</td>\n",
       "      <td>2008-02-01</td>\n",
       "      <td>57.0</td>\n",
       "      <td>36.0</td>\n",
       "      <td>82.0</td>\n",
       "      <td>72.0</td>\n",
       "    </tr>\n",
       "    <tr>\n",
       "      <th>3</th>\n",
       "      <td>4</td>\n",
       "      <td>Aggravated Assault</td>\n",
       "      <td>2008-03-01</td>\n",
       "      <td>83.0</td>\n",
       "      <td>96.0</td>\n",
       "      <td>85.0</td>\n",
       "      <td>89.0</td>\n",
       "    </tr>\n",
       "    <tr>\n",
       "      <th>4</th>\n",
       "      <td>5</td>\n",
       "      <td>Aggravated Assault</td>\n",
       "      <td>2008-04-01</td>\n",
       "      <td>59.0</td>\n",
       "      <td>125.0</td>\n",
       "      <td>108.0</td>\n",
       "      <td>113.0</td>\n",
       "    </tr>\n",
       "    <tr>\n",
       "      <th>5</th>\n",
       "      <td>6</td>\n",
       "      <td>Aggravated Assault</td>\n",
       "      <td>2008-05-01</td>\n",
       "      <td>74.0</td>\n",
       "      <td>123.0</td>\n",
       "      <td>107.0</td>\n",
       "      <td>94.0</td>\n",
       "    </tr>\n",
       "  </tbody>\n",
       "</table>\n",
       "</div>"
      ],
      "text/plain": [
       "   0               Phase  Unnamed: 2  First Quarter  Full Moon  Last Quarter  \\\n",
       "1  2  Aggravated Assault  2008-01-01           77.0       82.0          65.0   \n",
       "2  3  Aggravated Assault  2008-02-01           57.0       36.0          82.0   \n",
       "3  4  Aggravated Assault  2008-03-01           83.0       96.0          85.0   \n",
       "4  5  Aggravated Assault  2008-04-01           59.0      125.0         108.0   \n",
       "5  6  Aggravated Assault  2008-05-01           74.0      123.0         107.0   \n",
       "\n",
       "   New Moon  \n",
       "1      78.0  \n",
       "2      72.0  \n",
       "3      89.0  \n",
       "4     113.0  \n",
       "5      94.0  "
      ]
     },
     "execution_count": 96,
     "metadata": {},
     "output_type": "execute_result"
    }
   ],
   "source": [
    "AA=FinalData[(FinalData.Phase == 'Aggravated Assault')]\n",
    "AA.head()"
   ]
  },
  {
   "cell_type": "code",
   "execution_count": 109,
   "metadata": {},
   "outputs": [
    {
     "data": {
      "image/png": "[encoded data removed]",
      "text/plain": [
       "<Figure size 432x288 with 1 Axes>"
      ]
     },
     "metadata": {},
     "output_type": "display_data"
    }
   ],
   "source": [
    "AA.plot.scatter(\"First Quarter\", \"Full Moon\")\n",
    "plt.savefig(\"Aggravated Assault FirstQtr Full Moon\")"
   ]
  },
  {
   "cell_type": "code",
   "execution_count": 110,
   "metadata": {},
   "outputs": [
    {
     "data": {
      "image/png": "[encoded data removed]",
      "text/plain": [
       "<Figure size 432x288 with 1 Axes>"
      ]
     },
     "metadata": {},
     "output_type": "display_data"
    }
   ],
   "source": [
    "AA.plot.scatter(\"First Quarter\", \"Last Quarter\")\n",
    "plt.savefig(\"Aggravated Assault FirstQtr LastQtr\")"
   ]
  },
  {
   "cell_type": "code",
   "execution_count": 111,
   "metadata": {},
   "outputs": [
    {
     "data": {
      "image/png": "[encoded data removed]",
      "text/plain": [
       "<Figure size 432x288 with 1 Axes>"
      ]
     },
     "metadata": {},
     "output_type": "display_data"
    }
   ],
   "source": [
    "AA.plot.scatter(\"First Quarter\", \"New Moon\")\n",
    "plt.savefig(\"Aggravated Assault FirstQtr NewMoon\")"
   ]
  },
  {
   "cell_type": "code",
   "execution_count": 112,
   "metadata": {},
   "outputs": [
    {
     "data": {
      "image/png": "[encoded data removed]",
      "text/plain": [
       "<Figure size 432x288 with 1 Axes>"
      ]
     },
     "metadata": {},
     "output_type": "display_data"
    }
   ],
   "source": [
    "AA.plot.scatter(\"Full Moon\", \"Last Quarter\")\n",
    "plt.savefig(\"Aggravated Assault FullMoon LastQtr\")"
   ]
  },
  {
   "cell_type": "code",
   "execution_count": 113,
   "metadata": {},
   "outputs": [
    {
     "data": {
      "image/png": "[encoded data removed]",
      "text/plain": [
       "<Figure size 432x288 with 1 Axes>"
      ]
     },
     "metadata": {},
     "output_type": "display_data"
    }
   ],
   "source": [
    "AA.plot.scatter(\"Full Moon\", \"New Moon\")\n",
    "plt.savefig(\"Aggravated Assault FullMoon NewMoon\")"
   ]
  },
  {
   "cell_type": "code",
   "execution_count": 114,
   "metadata": {},
   "outputs": [
    {
     "data": {
      "image/png": "[encoded data removed]",
      "text/plain": [
       "<Figure size 432x288 with 1 Axes>"
      ]
     },
     "metadata": {},
     "output_type": "display_data"
    }
   ],
   "source": [
    "AA.plot.scatter(\"Last Quarter\", \"New Moon\")\n",
    "plt.savefig(\"Aggravated Assault LastQtr New Moon\")"
   ]
  },
  {
   "cell_type": "code",
   "execution_count": 123,
   "metadata": {},
   "outputs": [
    {
     "name": "stdout",
     "output_type": "stream",
     "text": [
      "0.31606616433085066\n"
     ]
    }
   ],
   "source": [
    "FQ = AA['First Quarter']\n",
    "FM = AA['Full Moon']\n",
    "LQ = AA['Last Quarter']\n",
    "NM = AA['New Moon']\n",
    "\n",
    "pearsonr_coefficient, p_value = pearsonr(FQ,FM)\n",
    "print (pearsonr_coefficient)"
   ]
  },
  {
   "cell_type": "code",
   "execution_count": 124,
   "metadata": {},
   "outputs": [
    {
     "name": "stdout",
     "output_type": "stream",
     "text": [
      "0.22662134830444397\n"
     ]
    }
   ],
   "source": [
    "pearsonr_coefficient, p_value = pearsonr(FQ,LQ)\n",
    "print (pearsonr_coefficient)"
   ]
  },
  {
   "cell_type": "code",
   "execution_count": 125,
   "metadata": {},
   "outputs": [
    {
     "name": "stdout",
     "output_type": "stream",
     "text": [
      "0.4648196585990055\n"
     ]
    }
   ],
   "source": [
    "pearsonr_coefficient, p_value = pearsonr(FQ,NM)\n",
    "print (pearsonr_coefficient)"
   ]
  },
  {
   "cell_type": "code",
   "execution_count": 127,
   "metadata": {},
   "outputs": [
    {
     "name": "stdout",
     "output_type": "stream",
     "text": [
      "0.5582622534583026\n"
     ]
    }
   ],
   "source": [
    "pearsonr_coefficient, p_value = pearsonr(FM,LQ)\n",
    "print (pearsonr_coefficient)"
   ]
  },
  {
   "cell_type": "code",
   "execution_count": 128,
   "metadata": {},
   "outputs": [
    {
     "name": "stdout",
     "output_type": "stream",
     "text": [
      "0.36572657126392616\n"
     ]
    }
   ],
   "source": [
    "pearsonr_coefficient, p_value = pearsonr(LQ,NM)\n",
    "print (pearsonr_coefficient)"
   ]
  },
  {
   "cell_type": "code",
   "execution_count": 129,
   "metadata": {},
   "outputs": [
    {
     "name": "stdout",
     "output_type": "stream",
     "text": [
      "0.4132751548558384\n"
     ]
    }
   ],
   "source": [
    "pearsonr_coefficient, p_value = pearsonr(FM,NM)\n",
    "print (pearsonr_coefficient)"
   ]
  },
  {
   "cell_type": "code",
   "execution_count": null,
   "metadata": {},
   "outputs": [],
   "source": []
  },
  {
   "cell_type": "code",
   "execution_count": null,
   "metadata": {},
   "outputs": [],
   "source": []
  }
 ],
 "metadata": {
  "kernelspec": {
   "display_name": "Python 3",
   "language": "python",
   "name": "python3"
  },
  "language_info": {
   "codemirror_mode": {
    "name": "ipython",
    "version": 3
   },
   "file_extension": ".py",
   "mimetype": "text/x-python",
   "name": "python",
   "nbconvert_exporter": "python",
   "pygments_lexer": "ipython3",
   "version": "3.6.5"
  }
 },
 "nbformat": 4,
 "nbformat_minor": 2
}
