{
 "cells": [
  {
   "cell_type": "code",
   "execution_count": 50,
   "metadata": {},
   "outputs": [],
   "source": [
    "import pandas as pd\n",
    "import numpy as np\n",
    "import matplotlib.pyplot as plt"
   ]
  },
  {
   "cell_type": "code",
   "execution_count": 37,
   "metadata": {},
   "outputs": [],
   "source": [
    "crimeData = pd.read_csv(\"crimeDataWithPhase.csv\")\n",
    "year2008 = crimeData[(crimeData.DateOccured < \"2009-01-01\")]\n",
    "year2009 = crimeData[(crimeData.DateOccured >= \"2009-01-01\") & (crimeData.DateOccured < \"2010-01-01\")]\n",
    "year2010 = crimeData[(crimeData.DateOccured >= \"2010-01-01\") & (crimeData.DateOccured < \"2011-01-01\")]\n",
    "year2011 = crimeData[(crimeData.DateOccured >= \"2011-01-01\") & (crimeData.DateOccured < \"2012-01-01\")]\n",
    "year2012 = crimeData[(crimeData.DateOccured >= \"2012-01-01\") & (crimeData.DateOccured < \"2013-01-01\")]\n",
    "year2013 = crimeData[(crimeData.DateOccured >= \"2013-01-01\") & (crimeData.DateOccured < \"2014-01-01\")]\n",
    "year2014 = crimeData[(crimeData.DateOccured >= \"2014-01-01\") & (crimeData.DateOccured < \"2015-01-01\")]\n",
    "year2015 = crimeData[(crimeData.DateOccured >= \"2015-01-01\")]"
   ]
  },
  {
   "cell_type": "code",
   "execution_count": 38,
   "metadata": {},
   "outputs": [
    {
     "name": "stdout",
     "output_type": "stream",
     "text": [
      "First Quarter: 10574. Last Quarter: 10173. Full Moon: 10429. New Moon: 11051. New moon percentage: 26.17%.\n"
     ]
    }
   ],
   "source": [
    "fullMoon2008 = year2008.DateOccured[(year2008.Phase == \"Full Moon\")].count()\n",
    "newMoon2008 = year2008.DateOccured[(year2008.Phase == \"New Moon\")].count()\n",
    "firstQuarter2008 = year2008.DateOccured[(year2008.Phase == \"First Quarter\")].count()\n",
    "lastQuarter2008 = year2008.DateOccured[(year2008.Phase == \"Last Quarter\")].count()\n",
    "fmPct2008 = newMoon2008 / (fullMoon2008+newMoon2008+firstQuarter2008+lastQuarter2008) * 100\n",
    "print(\"First Quarter: {0}. Last Quarter: {1}. Full Moon: {2}. New Moon: {3}. New moon percentage: {4:.2f}%.\".format(firstQuarter2008, lastQuarter2008, fullMoon2008, newMoon2008, fmPct2008))"
   ]
  },
  {
   "cell_type": "code",
   "execution_count": 39,
   "metadata": {},
   "outputs": [
    {
     "name": "stdout",
     "output_type": "stream",
     "text": [
      "First Quarter: 9717. Last Quarter: 9477. Full Moon: 10392. New Moon: 9102. New moon percentage: 23.50%.\n"
     ]
    }
   ],
   "source": [
    "fullMoon2009 = year2009.DateOccured[(year2009.Phase == \"Full Moon\")].count()\n",
    "newMoon2009 = year2009.DateOccured[(year2009.Phase == \"New Moon\")].count()\n",
    "firstQuarter2009 = year2009.DateOccured[(year2009.Phase == \"First Quarter\")].count()\n",
    "lastQuarter2009 = year2009.DateOccured[(year2009.Phase == \"Last Quarter\")].count()\n",
    "fmPct2009 = newMoon2009 / (fullMoon2008+newMoon2009+firstQuarter2009+lastQuarter2009) * 100\n",
    "print(\"First Quarter: {0}. Last Quarter: {1}. Full Moon: {2}. New Moon: {3}. New moon percentage: {4:.2f}%.\".format(firstQuarter2009, lastQuarter2009, fullMoon2009, newMoon2009, fmPct2009))"
   ]
  },
  {
   "cell_type": "code",
   "execution_count": 40,
   "metadata": {},
   "outputs": [
    {
     "name": "stdout",
     "output_type": "stream",
     "text": [
      "First Quarter: 8418. Last Quarter: 9011. Full Moon: 8836. New Moon: 8741. New moon percentage: 24.97%.\n"
     ]
    }
   ],
   "source": [
    "fullMoon2010 = year2010.DateOccured[(year2010.Phase == \"Full Moon\")].count()\n",
    "newMoon2010 = year2010.DateOccured[(year2010.Phase == \"New Moon\")].count()\n",
    "firstQuarter2010 = year2010.DateOccured[(year2010.Phase == \"First Quarter\")].count()\n",
    "lastQuarter2010 = year2010.DateOccured[(year2010.Phase == \"Last Quarter\")].count()\n",
    "fmPct2010 = newMoon2010 / (fullMoon2010+newMoon2010+firstQuarter2010+lastQuarter2010) * 100\n",
    "print(\"First Quarter: {0}. Last Quarter: {1}. Full Moon: {2}. New Moon: {3}. New moon percentage: {4:.2f}%.\".format(firstQuarter2010, lastQuarter2010, fullMoon2010, newMoon2010, fmPct2010))"
   ]
  },
  {
   "cell_type": "code",
   "execution_count": 41,
   "metadata": {},
   "outputs": [
    {
     "name": "stdout",
     "output_type": "stream",
     "text": [
      "First Quarter: 8253. Last Quarter: 8113. Full Moon: 7868. New Moon: 8518. New moon percentage: 26.01%.\n"
     ]
    }
   ],
   "source": [
    "fullMoon2011 = year2011.DateOccured[(year2011.Phase == \"Full Moon\")].count()\n",
    "newMoon2011 = year2011.DateOccured[(year2011.Phase == \"New Moon\")].count()\n",
    "firstQuarter2011 = year2011.DateOccured[(year2011.Phase == \"First Quarter\")].count()\n",
    "lastQuarter2011 = year2011.DateOccured[(year2011.Phase == \"Last Quarter\")].count()\n",
    "fmPct2011 = newMoon2011 / (fullMoon2011+newMoon2011+firstQuarter2011+lastQuarter2011) * 100\n",
    "print(\"First Quarter: {0}. Last Quarter: {1}. Full Moon: {2}. New Moon: {3}. New moon percentage: {4:.2f}%.\".format(firstQuarter2011, lastQuarter2011, fullMoon2011, newMoon2011, fmPct2011))"
   ]
  },
  {
   "cell_type": "code",
   "execution_count": 42,
   "metadata": {},
   "outputs": [
    {
     "name": "stdout",
     "output_type": "stream",
     "text": [
      "First Quarter: 7428. Last Quarter: 7016. Full Moon: 7341. New Moon: 7137. New moon percentage: 24.68%.\n"
     ]
    }
   ],
   "source": [
    "fullMoon2012 = year2012.DateOccured[(year2012.Phase == \"Full Moon\")].count()\n",
    "newMoon2012 = year2012.DateOccured[(year2012.Phase == \"New Moon\")].count()\n",
    "firstQuarter2012 = year2012.DateOccured[(year2012.Phase == \"First Quarter\")].count()\n",
    "lastQuarter2012 = year2012.DateOccured[(year2012.Phase == \"Last Quarter\")].count()\n",
    "fmPct2012 = newMoon2012 / (fullMoon2012+newMoon2012+firstQuarter2012+lastQuarter2012) * 100\n",
    "print(\"First Quarter: {0}. Last Quarter: {1}. Full Moon: {2}. New Moon: {3}. New moon percentage: {4:.2f}%.\".format(firstQuarter2012, lastQuarter2012, fullMoon2012, newMoon2012, fmPct2012))"
   ]
  },
  {
   "cell_type": "code",
   "execution_count": 43,
   "metadata": {},
   "outputs": [
    {
     "name": "stdout",
     "output_type": "stream",
     "text": [
      "First Quarter: 6479. Last Quarter: 7162. Full Moon: 6416. New Moon: 7328. New moon percentage: 26.76%.\n"
     ]
    }
   ],
   "source": [
    "fullMoon2013 = year2013.DateOccured[(year2013.Phase == \"Full Moon\")].count()\n",
    "newMoon2013 = year2013.DateOccured[(year2013.Phase == \"New Moon\")].count()\n",
    "firstQuarter2013 = year2013.DateOccured[(year2013.Phase == \"First Quarter\")].count()\n",
    "lastQuarter2013 = year2013.DateOccured[(year2013.Phase == \"Last Quarter\")].count()\n",
    "fmPct2013 = newMoon2013 / (fullMoon2013+newMoon2013+firstQuarter2013+lastQuarter2013) * 100\n",
    "print(\"First Quarter: {0}. Last Quarter: {1}. Full Moon: {2}. New Moon: {3}. New moon percentage: {4:.2f}%.\".format(firstQuarter2013, lastQuarter2013, fullMoon2013, newMoon2013, fmPct2013))"
   ]
  },
  {
   "cell_type": "code",
   "execution_count": 44,
   "metadata": {},
   "outputs": [
    {
     "name": "stdout",
     "output_type": "stream",
     "text": [
      "First Quarter: 6961. Last Quarter: 6267. Full Moon: 6419. New Moon: 6833. New moon percentage: 25.80%.\n"
     ]
    }
   ],
   "source": [
    "fullMoon2014 = year2014.DateOccured[(year2014.Phase == \"Full Moon\")].count()\n",
    "newMoon2014 = year2014.DateOccured[(year2014.Phase == \"New Moon\")].count()\n",
    "firstQuarter2014 = year2014.DateOccured[(year2014.Phase == \"First Quarter\")].count()\n",
    "lastQuarter2014 = year2014.DateOccured[(year2014.Phase == \"Last Quarter\")].count()\n",
    "fmPct2014 = newMoon2014 / (fullMoon2014+newMoon2014+firstQuarter2014+lastQuarter2014) * 100\n",
    "print(\"First Quarter: {0}. Last Quarter: {1}. Full Moon: {2}. New Moon: {3}. New moon percentage: {4:.2f}%.\".format(firstQuarter2014, lastQuarter2014, fullMoon2014, newMoon2014, fmPct2014))"
   ]
  },
  {
   "cell_type": "code",
   "execution_count": 45,
   "metadata": {},
   "outputs": [
    {
     "name": "stdout",
     "output_type": "stream",
     "text": [
      "First Quarter: 6592. Last Quarter: 6581. Full Moon: 6833. New Moon: 6579. New moon percentage: 24.75%.\n"
     ]
    }
   ],
   "source": [
    "fullMoon2015 = year2015.DateOccured[(year2015.Phase == \"Full Moon\")].count()\n",
    "newMoon2015 = year2015.DateOccured[(year2015.Phase == \"New Moon\")].count()\n",
    "firstQuarter2015 = year2015.DateOccured[(year2015.Phase == \"First Quarter\")].count()\n",
    "lastQuarter2015 = year2015.DateOccured[(year2015.Phase == \"Last Quarter\")].count()\n",
    "fmPct2015 = newMoon2015 / (fullMoon2015+newMoon2015+firstQuarter2015+lastQuarter2015) * 100\n",
    "print(\"First Quarter: {0}. Last Quarter: {1}. Full Moon: {2}. New Moon: {3}. New moon percentage: {4:.2f}%.\".format(firstQuarter2015, lastQuarter2015, fullMoon2015, newMoon2015, fmPct2015))"
   ]
  },
  {
   "cell_type": "code",
   "execution_count": 64,
   "metadata": {},
   "outputs": [
    {
     "data": {
      "image/png": "[encoded data removed]",
      "text/plain": [
       "<Figure size 432x288 with 1 Axes>"
      ]
     },
     "metadata": {},
     "output_type": "display_data"
    }
   ],
   "source": [
    "fullMoons = np.array([fullMoon2008, fullMoon2009, fullMoon2010, fullMoon2011, fullMoon2012, fullMoon2013, fullMoon2014, fullMoon2015])\n",
    "newMoons = np.array([newMoon2008, newMoon2009, newMoon2010, newMoon2011, newMoon2012, newMoon2013, newMoon2014, newMoon2015])\n",
    "firstQuarters = np.array([firstQuarter2008, firstQuarter2009, firstQuarter2010, firstQuarter2011, firstQuarter2012, firstQuarter2013, firstQuarter2014, firstQuarter2015])\n",
    "lastQuarters = np.array([lastQuarter2008, lastQuarter2009, lastQuarter2010, lastQuarter2011, lastQuarter2012, lastQuarter2013, lastQuarter2014, lastQuarter2015])\n",
    "years = np.array([2008,2009,2010,2011,2012,2013,2014,2015])\n",
    "plt.plot(years, fullMoons, label=\"Full Moon\")\n",
    "plt.plot(years, newMoons, label=\"New Moon\")\n",
    "plt.plot(years, firstQuarters, label=\"First Quarter\")\n",
    "plt.plot(years, lastQuarters, label=\"Last Quarter\")\n",
    "plt.ylabel(\"Number of Crimes\")\n",
    "plt.xlabel(\"Year\")\n",
    "plt.title(\"Crimes by Lunar Phase from 2008-2015\")\n",
    "plt.legend()\n",
    "plt.show()"
   ]
  },
  {
   "cell_type": "code",
   "execution_count": null,
   "metadata": {},
   "outputs": [],
   "source": []
  }
 ],
 "metadata": {
  "kernelspec": {
   "display_name": "Python 3",
   "language": "python",
   "name": "python3"
  },
  "language_info": {
   "codemirror_mode": {
    "name": "ipython",
    "version": 3
   },
   "file_extension": ".py",
   "mimetype": "text/x-python",
   "name": "python",
   "nbconvert_exporter": "python",
   "pygments_lexer": "ipython3",
   "version": "3.6.5"
  }
 },
 "nbformat": 4,
 "nbformat_minor": 2
}
